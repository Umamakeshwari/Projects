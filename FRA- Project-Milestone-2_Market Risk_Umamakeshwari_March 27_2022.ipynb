{
 "cells": [
  {
   "cell_type": "code",
   "execution_count": 1,
   "metadata": {},
   "outputs": [],
   "source": [
    "import numpy as np\n",
    "import matplotlib.pyplot as plt\n",
    "import pandas as pd\n",
    "import seaborn as sns \n",
    "color = sns.color_palette()\n",
    "import sklearn.metrics as metrics\n",
    "\n",
    "import warnings\n",
    "warnings.filterwarnings(\"ignore\")"
   ]
  },
  {
   "cell_type": "code",
   "execution_count": 2,
   "metadata": {},
   "outputs": [
    {
     "data": {
      "text/plain": [
       "'C:\\\\Users\\\\LENOVO'"
      ]
     },
     "execution_count": 2,
     "metadata": {},
     "output_type": "execute_result"
    }
   ],
   "source": [
    "import os\n",
    "os.getcwd()"
   ]
  },
  {
   "cell_type": "code",
   "execution_count": 3,
   "metadata": {},
   "outputs": [],
   "source": [
    "stock_data = pd.read_csv('Market_Risk_Dataset.csv')"
   ]
  },
  {
   "cell_type": "code",
   "execution_count": 4,
   "metadata": {},
   "outputs": [
    {
     "data": {
      "text/html": [
       "<div>\n",
       "<style scoped>\n",
       "    .dataframe tbody tr th:only-of-type {\n",
       "        vertical-align: middle;\n",
       "    }\n",
       "\n",
       "    .dataframe tbody tr th {\n",
       "        vertical-align: top;\n",
       "    }\n",
       "\n",
       "    .dataframe thead th {\n",
       "        text-align: right;\n",
       "    }\n",
       "</style>\n",
       "<table border=\"1\" class=\"dataframe\">\n",
       "  <thead>\n",
       "    <tr style=\"text-align: right;\">\n",
       "      <th></th>\n",
       "      <th>Date</th>\n",
       "      <th>Infosys</th>\n",
       "      <th>Indian Hotel</th>\n",
       "      <th>Mahindra &amp; Mahindra</th>\n",
       "      <th>Axis Bank</th>\n",
       "      <th>SAIL</th>\n",
       "      <th>Shree Cement</th>\n",
       "      <th>Sun Pharma</th>\n",
       "      <th>Jindal Steel</th>\n",
       "      <th>Idea Vodafone</th>\n",
       "      <th>Jet Airways</th>\n",
       "    </tr>\n",
       "  </thead>\n",
       "  <tbody>\n",
       "    <tr>\n",
       "      <th>0</th>\n",
       "      <td>31-03-2014</td>\n",
       "      <td>264</td>\n",
       "      <td>69</td>\n",
       "      <td>455</td>\n",
       "      <td>263</td>\n",
       "      <td>68</td>\n",
       "      <td>5543</td>\n",
       "      <td>555</td>\n",
       "      <td>298</td>\n",
       "      <td>83</td>\n",
       "      <td>278</td>\n",
       "    </tr>\n",
       "    <tr>\n",
       "      <th>1</th>\n",
       "      <td>07-04-2014</td>\n",
       "      <td>257</td>\n",
       "      <td>68</td>\n",
       "      <td>458</td>\n",
       "      <td>276</td>\n",
       "      <td>70</td>\n",
       "      <td>5728</td>\n",
       "      <td>610</td>\n",
       "      <td>279</td>\n",
       "      <td>84</td>\n",
       "      <td>303</td>\n",
       "    </tr>\n",
       "    <tr>\n",
       "      <th>2</th>\n",
       "      <td>14-04-2014</td>\n",
       "      <td>254</td>\n",
       "      <td>68</td>\n",
       "      <td>454</td>\n",
       "      <td>270</td>\n",
       "      <td>68</td>\n",
       "      <td>5649</td>\n",
       "      <td>607</td>\n",
       "      <td>279</td>\n",
       "      <td>83</td>\n",
       "      <td>280</td>\n",
       "    </tr>\n",
       "    <tr>\n",
       "      <th>3</th>\n",
       "      <td>21-04-2014</td>\n",
       "      <td>253</td>\n",
       "      <td>68</td>\n",
       "      <td>488</td>\n",
       "      <td>283</td>\n",
       "      <td>68</td>\n",
       "      <td>5692</td>\n",
       "      <td>604</td>\n",
       "      <td>274</td>\n",
       "      <td>83</td>\n",
       "      <td>282</td>\n",
       "    </tr>\n",
       "    <tr>\n",
       "      <th>4</th>\n",
       "      <td>28-04-2014</td>\n",
       "      <td>256</td>\n",
       "      <td>65</td>\n",
       "      <td>482</td>\n",
       "      <td>282</td>\n",
       "      <td>63</td>\n",
       "      <td>5582</td>\n",
       "      <td>611</td>\n",
       "      <td>238</td>\n",
       "      <td>79</td>\n",
       "      <td>243</td>\n",
       "    </tr>\n",
       "  </tbody>\n",
       "</table>\n",
       "</div>"
      ],
      "text/plain": [
       "         Date  Infosys  Indian Hotel  Mahindra & Mahindra  Axis Bank  SAIL  \\\n",
       "0  31-03-2014      264            69                  455        263    68   \n",
       "1  07-04-2014      257            68                  458        276    70   \n",
       "2  14-04-2014      254            68                  454        270    68   \n",
       "3  21-04-2014      253            68                  488        283    68   \n",
       "4  28-04-2014      256            65                  482        282    63   \n",
       "\n",
       "   Shree Cement  Sun Pharma  Jindal Steel  Idea Vodafone  Jet Airways  \n",
       "0          5543         555           298             83          278  \n",
       "1          5728         610           279             84          303  \n",
       "2          5649         607           279             83          280  \n",
       "3          5692         604           274             83          282  \n",
       "4          5582         611           238             79          243  "
      ]
     },
     "execution_count": 4,
     "metadata": {},
     "output_type": "execute_result"
    }
   ],
   "source": [
    "stock_data.head()"
   ]
  },
  {
   "cell_type": "code",
   "execution_count": 5,
   "metadata": {},
   "outputs": [],
   "source": [
    "stock_data.columns = stock_data.columns.str.replace(' ','_')"
   ]
  },
  {
   "cell_type": "code",
   "execution_count": 6,
   "metadata": {},
   "outputs": [
    {
     "name": "stdout",
     "output_type": "stream",
     "text": [
      "<class 'pandas.core.frame.DataFrame'>\n",
      "RangeIndex: 314 entries, 0 to 313\n",
      "Data columns (total 11 columns):\n",
      " #   Column               Non-Null Count  Dtype \n",
      "---  ------               --------------  ----- \n",
      " 0   Date                 314 non-null    object\n",
      " 1   Infosys              314 non-null    int64 \n",
      " 2   Indian_Hotel         314 non-null    int64 \n",
      " 3   Mahindra_&_Mahindra  314 non-null    int64 \n",
      " 4   Axis_Bank            314 non-null    int64 \n",
      " 5   SAIL                 314 non-null    int64 \n",
      " 6   Shree_Cement         314 non-null    int64 \n",
      " 7   Sun_Pharma           314 non-null    int64 \n",
      " 8   Jindal_Steel         314 non-null    int64 \n",
      " 9   Idea_Vodafone        314 non-null    int64 \n",
      " 10  Jet_Airways          314 non-null    int64 \n",
      "dtypes: int64(10), object(1)\n",
      "memory usage: 27.1+ KB\n"
     ]
    }
   ],
   "source": [
    "stock_data.info()"
   ]
  },
  {
   "cell_type": "code",
   "execution_count": 7,
   "metadata": {},
   "outputs": [
    {
     "data": {
      "text/html": [
       "<div>\n",
       "<style scoped>\n",
       "    .dataframe tbody tr th:only-of-type {\n",
       "        vertical-align: middle;\n",
       "    }\n",
       "\n",
       "    .dataframe tbody tr th {\n",
       "        vertical-align: top;\n",
       "    }\n",
       "\n",
       "    .dataframe thead th {\n",
       "        text-align: right;\n",
       "    }\n",
       "</style>\n",
       "<table border=\"1\" class=\"dataframe\">\n",
       "  <thead>\n",
       "    <tr style=\"text-align: right;\">\n",
       "      <th></th>\n",
       "      <th>Infosys</th>\n",
       "      <th>Indian_Hotel</th>\n",
       "      <th>Mahindra_&amp;_Mahindra</th>\n",
       "      <th>Axis_Bank</th>\n",
       "      <th>SAIL</th>\n",
       "      <th>Shree_Cement</th>\n",
       "      <th>Sun_Pharma</th>\n",
       "      <th>Jindal_Steel</th>\n",
       "      <th>Idea_Vodafone</th>\n",
       "      <th>Jet_Airways</th>\n",
       "    </tr>\n",
       "  </thead>\n",
       "  <tbody>\n",
       "    <tr>\n",
       "      <th>count</th>\n",
       "      <td>314.000000</td>\n",
       "      <td>314.000000</td>\n",
       "      <td>314.000000</td>\n",
       "      <td>314.000000</td>\n",
       "      <td>314.000000</td>\n",
       "      <td>314.000000</td>\n",
       "      <td>314.000000</td>\n",
       "      <td>314.000000</td>\n",
       "      <td>314.000000</td>\n",
       "      <td>314.000000</td>\n",
       "    </tr>\n",
       "    <tr>\n",
       "      <th>mean</th>\n",
       "      <td>511.340764</td>\n",
       "      <td>114.560510</td>\n",
       "      <td>636.678344</td>\n",
       "      <td>540.742038</td>\n",
       "      <td>59.095541</td>\n",
       "      <td>14806.410828</td>\n",
       "      <td>633.468153</td>\n",
       "      <td>147.627389</td>\n",
       "      <td>53.713376</td>\n",
       "      <td>372.659236</td>\n",
       "    </tr>\n",
       "    <tr>\n",
       "      <th>std</th>\n",
       "      <td>135.952051</td>\n",
       "      <td>22.509732</td>\n",
       "      <td>102.879975</td>\n",
       "      <td>115.835569</td>\n",
       "      <td>15.810493</td>\n",
       "      <td>4288.275085</td>\n",
       "      <td>171.855893</td>\n",
       "      <td>65.879195</td>\n",
       "      <td>31.248985</td>\n",
       "      <td>202.262668</td>\n",
       "    </tr>\n",
       "    <tr>\n",
       "      <th>min</th>\n",
       "      <td>234.000000</td>\n",
       "      <td>64.000000</td>\n",
       "      <td>284.000000</td>\n",
       "      <td>263.000000</td>\n",
       "      <td>21.000000</td>\n",
       "      <td>5543.000000</td>\n",
       "      <td>338.000000</td>\n",
       "      <td>53.000000</td>\n",
       "      <td>3.000000</td>\n",
       "      <td>14.000000</td>\n",
       "    </tr>\n",
       "    <tr>\n",
       "      <th>25%</th>\n",
       "      <td>424.000000</td>\n",
       "      <td>96.000000</td>\n",
       "      <td>572.000000</td>\n",
       "      <td>470.500000</td>\n",
       "      <td>47.000000</td>\n",
       "      <td>10952.250000</td>\n",
       "      <td>478.500000</td>\n",
       "      <td>88.250000</td>\n",
       "      <td>25.250000</td>\n",
       "      <td>243.250000</td>\n",
       "    </tr>\n",
       "    <tr>\n",
       "      <th>50%</th>\n",
       "      <td>466.500000</td>\n",
       "      <td>115.000000</td>\n",
       "      <td>625.000000</td>\n",
       "      <td>528.000000</td>\n",
       "      <td>57.000000</td>\n",
       "      <td>16018.500000</td>\n",
       "      <td>614.000000</td>\n",
       "      <td>142.500000</td>\n",
       "      <td>53.000000</td>\n",
       "      <td>376.000000</td>\n",
       "    </tr>\n",
       "    <tr>\n",
       "      <th>75%</th>\n",
       "      <td>630.750000</td>\n",
       "      <td>134.000000</td>\n",
       "      <td>678.000000</td>\n",
       "      <td>605.250000</td>\n",
       "      <td>71.750000</td>\n",
       "      <td>17773.250000</td>\n",
       "      <td>785.000000</td>\n",
       "      <td>182.750000</td>\n",
       "      <td>82.000000</td>\n",
       "      <td>534.000000</td>\n",
       "    </tr>\n",
       "    <tr>\n",
       "      <th>max</th>\n",
       "      <td>810.000000</td>\n",
       "      <td>157.000000</td>\n",
       "      <td>956.000000</td>\n",
       "      <td>808.000000</td>\n",
       "      <td>104.000000</td>\n",
       "      <td>24806.000000</td>\n",
       "      <td>1089.000000</td>\n",
       "      <td>338.000000</td>\n",
       "      <td>117.000000</td>\n",
       "      <td>871.000000</td>\n",
       "    </tr>\n",
       "  </tbody>\n",
       "</table>\n",
       "</div>"
      ],
      "text/plain": [
       "          Infosys  Indian_Hotel  Mahindra_&_Mahindra   Axis_Bank        SAIL  \\\n",
       "count  314.000000    314.000000           314.000000  314.000000  314.000000   \n",
       "mean   511.340764    114.560510           636.678344  540.742038   59.095541   \n",
       "std    135.952051     22.509732           102.879975  115.835569   15.810493   \n",
       "min    234.000000     64.000000           284.000000  263.000000   21.000000   \n",
       "25%    424.000000     96.000000           572.000000  470.500000   47.000000   \n",
       "50%    466.500000    115.000000           625.000000  528.000000   57.000000   \n",
       "75%    630.750000    134.000000           678.000000  605.250000   71.750000   \n",
       "max    810.000000    157.000000           956.000000  808.000000  104.000000   \n",
       "\n",
       "       Shree_Cement   Sun_Pharma  Jindal_Steel  Idea_Vodafone  Jet_Airways  \n",
       "count    314.000000   314.000000    314.000000     314.000000   314.000000  \n",
       "mean   14806.410828   633.468153    147.627389      53.713376   372.659236  \n",
       "std     4288.275085   171.855893     65.879195      31.248985   202.262668  \n",
       "min     5543.000000   338.000000     53.000000       3.000000    14.000000  \n",
       "25%    10952.250000   478.500000     88.250000      25.250000   243.250000  \n",
       "50%    16018.500000   614.000000    142.500000      53.000000   376.000000  \n",
       "75%    17773.250000   785.000000    182.750000      82.000000   534.000000  \n",
       "max    24806.000000  1089.000000    338.000000     117.000000   871.000000  "
      ]
     },
     "execution_count": 7,
     "metadata": {},
     "output_type": "execute_result"
    }
   ],
   "source": [
    "stock_data.describe()"
   ]
  },
  {
   "cell_type": "code",
   "execution_count": 8,
   "metadata": {},
   "outputs": [
    {
     "data": {
      "text/plain": [
       "Date                   0\n",
       "Infosys                0\n",
       "Indian_Hotel           0\n",
       "Mahindra_&_Mahindra    0\n",
       "Axis_Bank              0\n",
       "SAIL                   0\n",
       "Shree_Cement           0\n",
       "Sun_Pharma             0\n",
       "Jindal_Steel           0\n",
       "Idea_Vodafone          0\n",
       "Jet_Airways            0\n",
       "dtype: int64"
      ]
     },
     "execution_count": 8,
     "metadata": {},
     "output_type": "execute_result"
    }
   ],
   "source": [
    "stock_data.isnull().sum()"
   ]
  },
  {
   "cell_type": "code",
   "execution_count": 9,
   "metadata": {},
   "outputs": [
    {
     "data": {
      "text/plain": [
       "(314, 11)"
      ]
     },
     "execution_count": 9,
     "metadata": {},
     "output_type": "execute_result"
    }
   ],
   "source": [
    "stock_data.shape"
   ]
  },
  {
   "cell_type": "markdown",
   "metadata": {},
   "source": [
    "### 2.1 Draw Stock Price Graph(Stock Price vs Time) for any 2 given stocks with inference"
   ]
  },
  {
   "cell_type": "code",
   "execution_count": 26,
   "metadata": {},
   "outputs": [
    {
     "data": {
      "image/png": "[encoded data removed]",
      "text/plain": [
       "<Figure size 864x576 with 1 Axes>"
      ]
     },
     "metadata": {
      "needs_background": "light"
     },
     "output_type": "display_data"
    }
   ],
   "source": [
    "plt.figure(figsize = (12,8))\n",
    "stock_data['dates'] = [pd.to_datetime(d) for d in stock_data['Date']]\n",
    "plt.scatter(stock_data['dates'], stock_data['Infosys'], edgecolors = 'g', color = 'blue')\n",
    "plt.xlabel('Year')\n",
    "plt.ylabel('Infosys')\n",
    "plt.title('Infosys over the years')\n",
    "plt.show()"
   ]
  },
  {
   "cell_type": "code",
   "execution_count": 27,
   "metadata": {},
   "outputs": [
    {
     "data": {
      "image/png": "[encoded data removed]",
      "text/plain": [
       "<Figure size 864x576 with 1 Axes>"
      ]
     },
     "metadata": {
      "needs_background": "light"
     },
     "output_type": "display_data"
    }
   ],
   "source": [
    "plt.figure(figsize = (12,8))\n",
    "plt.scatter(stock_data['dates'], stock_data['Indian_Hotel'], edgecolors = 'r', color = 'pink')\n",
    "plt.xlabel('Year')\n",
    "plt.ylabel('Indian_Hotel')\n",
    "plt.title('Indian_Hotel over the years')\n",
    "plt.show()"
   ]
  },
  {
   "cell_type": "markdown",
   "metadata": {},
   "source": [
    "### 2.2 Calculate Returns for all stocks with inference"
   ]
  },
  {
   "cell_type": "code",
   "execution_count": 12,
   "metadata": {},
   "outputs": [],
   "source": [
    "stock_returns = np.log(stock_data.drop(['Date','dates'], axis = 1).diff(axis = 0, periods = 1))"
   ]
  },
  {
   "cell_type": "code",
   "execution_count": 13,
   "metadata": {},
   "outputs": [
    {
     "data": {
      "text/html": [
       "<div>\n",
       "<style scoped>\n",
       "    .dataframe tbody tr th:only-of-type {\n",
       "        vertical-align: middle;\n",
       "    }\n",
       "\n",
       "    .dataframe tbody tr th {\n",
       "        vertical-align: top;\n",
       "    }\n",
       "\n",
       "    .dataframe thead th {\n",
       "        text-align: right;\n",
       "    }\n",
       "</style>\n",
       "<table border=\"1\" class=\"dataframe\">\n",
       "  <thead>\n",
       "    <tr style=\"text-align: right;\">\n",
       "      <th></th>\n",
       "      <th>Infosys</th>\n",
       "      <th>Indian_Hotel</th>\n",
       "      <th>Mahindra_&amp;_Mahindra</th>\n",
       "      <th>Axis_Bank</th>\n",
       "      <th>SAIL</th>\n",
       "      <th>Shree_Cement</th>\n",
       "      <th>Sun_Pharma</th>\n",
       "      <th>Jindal_Steel</th>\n",
       "      <th>Idea_Vodafone</th>\n",
       "      <th>Jet_Airways</th>\n",
       "    </tr>\n",
       "  </thead>\n",
       "  <tbody>\n",
       "    <tr>\n",
       "      <th>0</th>\n",
       "      <td>NaN</td>\n",
       "      <td>NaN</td>\n",
       "      <td>NaN</td>\n",
       "      <td>NaN</td>\n",
       "      <td>NaN</td>\n",
       "      <td>NaN</td>\n",
       "      <td>NaN</td>\n",
       "      <td>NaN</td>\n",
       "      <td>NaN</td>\n",
       "      <td>NaN</td>\n",
       "    </tr>\n",
       "    <tr>\n",
       "      <th>1</th>\n",
       "      <td>NaN</td>\n",
       "      <td>NaN</td>\n",
       "      <td>1.098612</td>\n",
       "      <td>2.564949</td>\n",
       "      <td>0.693147</td>\n",
       "      <td>5.220356</td>\n",
       "      <td>4.007333</td>\n",
       "      <td>NaN</td>\n",
       "      <td>0.0</td>\n",
       "      <td>3.218876</td>\n",
       "    </tr>\n",
       "    <tr>\n",
       "      <th>2</th>\n",
       "      <td>NaN</td>\n",
       "      <td>-inf</td>\n",
       "      <td>NaN</td>\n",
       "      <td>NaN</td>\n",
       "      <td>NaN</td>\n",
       "      <td>NaN</td>\n",
       "      <td>NaN</td>\n",
       "      <td>-inf</td>\n",
       "      <td>NaN</td>\n",
       "      <td>NaN</td>\n",
       "    </tr>\n",
       "    <tr>\n",
       "      <th>3</th>\n",
       "      <td>NaN</td>\n",
       "      <td>-inf</td>\n",
       "      <td>3.526361</td>\n",
       "      <td>2.564949</td>\n",
       "      <td>-inf</td>\n",
       "      <td>3.761200</td>\n",
       "      <td>NaN</td>\n",
       "      <td>NaN</td>\n",
       "      <td>-inf</td>\n",
       "      <td>0.693147</td>\n",
       "    </tr>\n",
       "    <tr>\n",
       "      <th>4</th>\n",
       "      <td>1.098612</td>\n",
       "      <td>NaN</td>\n",
       "      <td>NaN</td>\n",
       "      <td>NaN</td>\n",
       "      <td>NaN</td>\n",
       "      <td>NaN</td>\n",
       "      <td>1.945910</td>\n",
       "      <td>NaN</td>\n",
       "      <td>NaN</td>\n",
       "      <td>NaN</td>\n",
       "    </tr>\n",
       "  </tbody>\n",
       "</table>\n",
       "</div>"
      ],
      "text/plain": [
       "    Infosys  Indian_Hotel  Mahindra_&_Mahindra  Axis_Bank      SAIL  \\\n",
       "0       NaN           NaN                  NaN        NaN       NaN   \n",
       "1       NaN           NaN             1.098612   2.564949  0.693147   \n",
       "2       NaN          -inf                  NaN        NaN       NaN   \n",
       "3       NaN          -inf             3.526361   2.564949      -inf   \n",
       "4  1.098612           NaN                  NaN        NaN       NaN   \n",
       "\n",
       "   Shree_Cement  Sun_Pharma  Jindal_Steel  Idea_Vodafone  Jet_Airways  \n",
       "0           NaN         NaN           NaN            NaN          NaN  \n",
       "1      5.220356    4.007333           NaN            0.0     3.218876  \n",
       "2           NaN         NaN          -inf            NaN          NaN  \n",
       "3      3.761200         NaN           NaN           -inf     0.693147  \n",
       "4           NaN    1.945910           NaN            NaN          NaN  "
      ]
     },
     "execution_count": 13,
     "metadata": {},
     "output_type": "execute_result"
    }
   ],
   "source": [
    "stock_returns.head(50)"
   ]
  },
  {
   "cell_type": "code",
   "execution_count": 14,
   "metadata": {},
   "outputs": [],
   "source": [
    "stock_data['Infosys_returns'] = stock_data['Infosys'].pct_change()"
   ]
  },
  {
   "cell_type": "code",
   "execution_count": 15,
   "metadata": {},
   "outputs": [
    {
     "data": {
      "text/plain": [
       "0         NaN\n",
       "1   -0.026515\n",
       "2   -0.011673\n",
       "3   -0.003937\n",
       "4    0.011858\n",
       "Name: Infosys_returns, dtype: float64"
      ]
     },
     "execution_count": 15,
     "metadata": {},
     "output_type": "execute_result"
    }
   ],
   "source": [
    "stock_data['Infosys_returns'].head()"
   ]
  },
  {
   "cell_type": "code",
   "execution_count": 16,
   "metadata": {},
   "outputs": [],
   "source": [
    "stock_data['Indian_Hotel_returns'] = stock_data['Indian_Hotel'].pct_change()\n",
    "stock_data['Mahindra&Mahindra_returns'] = stock_data['Mahindra_&_Mahindra'].pct_change()\n",
    "stock_data['Axis_Bank_returns'] = stock_data['Axis_Bank'].pct_change()\n",
    "stock_data['SAIL_returns'] = stock_data['SAIL'].pct_change()\n",
    "stock_data['Shree_Cement_returns'] = stock_data['Shree_Cement'].pct_change()\n",
    "stock_data['Sun_Pharma_returns'] = stock_data['Sun_Pharma'].pct_change()\n",
    "stock_data['Jindal_Steel_returns'] = stock_data['Jindal_Steel'].pct_change()\n",
    "stock_data['Idea_Vodafone_returns'] = stock_data['Idea_Vodafone'].pct_change()\n",
    "stock_data['Jet_Airways_returns'] = stock_data['Jet_Airways'].pct_change()"
   ]
  },
  {
   "cell_type": "code",
   "execution_count": 17,
   "metadata": {},
   "outputs": [],
   "source": [
    "stock_returns = stock_data[['Infosys_returns','Indian_Hotel_returns','Mahindra&Mahindra_returns','Axis_Bank_returns','SAIL_returns','Shree_Cement_returns','Sun_Pharma_returns','Jindal_Steel_returns','Idea_Vodafone_returns','Jet_Airways_returns']]"
   ]
  },
  {
   "cell_type": "code",
   "execution_count": 18,
   "metadata": {},
   "outputs": [
    {
     "data": {
      "text/html": [
       "<div>\n",
       "<style scoped>\n",
       "    .dataframe tbody tr th:only-of-type {\n",
       "        vertical-align: middle;\n",
       "    }\n",
       "\n",
       "    .dataframe tbody tr th {\n",
       "        vertical-align: top;\n",
       "    }\n",
       "\n",
       "    .dataframe thead th {\n",
       "        text-align: right;\n",
       "    }\n",
       "</style>\n",
       "<table border=\"1\" class=\"dataframe\">\n",
       "  <thead>\n",
       "    <tr style=\"text-align: right;\">\n",
       "      <th></th>\n",
       "      <th>Infosys_returns</th>\n",
       "      <th>Indian_Hotel_returns</th>\n",
       "      <th>Mahindra&amp;Mahindra_returns</th>\n",
       "      <th>Axis_Bank_returns</th>\n",
       "      <th>SAIL_returns</th>\n",
       "      <th>Shree_Cement_returns</th>\n",
       "      <th>Sun_Pharma_returns</th>\n",
       "      <th>Jindal_Steel_returns</th>\n",
       "      <th>Idea_Vodafone_returns</th>\n",
       "      <th>Jet_Airways_returns</th>\n",
       "    </tr>\n",
       "  </thead>\n",
       "  <tbody>\n",
       "    <tr>\n",
       "      <th>0</th>\n",
       "      <td>NaN</td>\n",
       "      <td>NaN</td>\n",
       "      <td>NaN</td>\n",
       "      <td>NaN</td>\n",
       "      <td>NaN</td>\n",
       "      <td>NaN</td>\n",
       "      <td>NaN</td>\n",
       "      <td>NaN</td>\n",
       "      <td>NaN</td>\n",
       "      <td>NaN</td>\n",
       "    </tr>\n",
       "    <tr>\n",
       "      <th>1</th>\n",
       "      <td>-0.026515</td>\n",
       "      <td>-0.014493</td>\n",
       "      <td>0.006593</td>\n",
       "      <td>0.049430</td>\n",
       "      <td>0.029412</td>\n",
       "      <td>0.033375</td>\n",
       "      <td>0.099099</td>\n",
       "      <td>-0.063758</td>\n",
       "      <td>0.012048</td>\n",
       "      <td>0.089928</td>\n",
       "    </tr>\n",
       "    <tr>\n",
       "      <th>2</th>\n",
       "      <td>-0.011673</td>\n",
       "      <td>0.000000</td>\n",
       "      <td>-0.008734</td>\n",
       "      <td>-0.021739</td>\n",
       "      <td>-0.028571</td>\n",
       "      <td>-0.013792</td>\n",
       "      <td>-0.004918</td>\n",
       "      <td>0.000000</td>\n",
       "      <td>-0.011905</td>\n",
       "      <td>-0.075908</td>\n",
       "    </tr>\n",
       "    <tr>\n",
       "      <th>3</th>\n",
       "      <td>-0.003937</td>\n",
       "      <td>0.000000</td>\n",
       "      <td>0.074890</td>\n",
       "      <td>0.048148</td>\n",
       "      <td>0.000000</td>\n",
       "      <td>0.007612</td>\n",
       "      <td>-0.004942</td>\n",
       "      <td>-0.017921</td>\n",
       "      <td>0.000000</td>\n",
       "      <td>0.007143</td>\n",
       "    </tr>\n",
       "    <tr>\n",
       "      <th>4</th>\n",
       "      <td>0.011858</td>\n",
       "      <td>-0.044118</td>\n",
       "      <td>-0.012295</td>\n",
       "      <td>-0.003534</td>\n",
       "      <td>-0.073529</td>\n",
       "      <td>-0.019325</td>\n",
       "      <td>0.011589</td>\n",
       "      <td>-0.131387</td>\n",
       "      <td>-0.048193</td>\n",
       "      <td>-0.138298</td>\n",
       "    </tr>\n",
       "    <tr>\n",
       "      <th>5</th>\n",
       "      <td>-0.031250</td>\n",
       "      <td>-0.015385</td>\n",
       "      <td>0.041494</td>\n",
       "      <td>0.063830</td>\n",
       "      <td>0.063492</td>\n",
       "      <td>0.011465</td>\n",
       "      <td>-0.008183</td>\n",
       "      <td>0.025210</td>\n",
       "      <td>0.012658</td>\n",
       "      <td>-0.016461</td>\n",
       "    </tr>\n",
       "    <tr>\n",
       "      <th>6</th>\n",
       "      <td>0.020161</td>\n",
       "      <td>0.062500</td>\n",
       "      <td>0.011952</td>\n",
       "      <td>0.080000</td>\n",
       "      <td>0.119403</td>\n",
       "      <td>0.069961</td>\n",
       "      <td>-0.016502</td>\n",
       "      <td>0.102459</td>\n",
       "      <td>0.050000</td>\n",
       "      <td>0.020921</td>\n",
       "    </tr>\n",
       "    <tr>\n",
       "      <th>7</th>\n",
       "      <td>-0.035573</td>\n",
       "      <td>0.220588</td>\n",
       "      <td>0.039370</td>\n",
       "      <td>0.061728</td>\n",
       "      <td>0.146667</td>\n",
       "      <td>0.058434</td>\n",
       "      <td>-0.048658</td>\n",
       "      <td>0.111524</td>\n",
       "      <td>-0.023810</td>\n",
       "      <td>0.184426</td>\n",
       "    </tr>\n",
       "    <tr>\n",
       "      <th>8</th>\n",
       "      <td>-0.040984</td>\n",
       "      <td>-0.012048</td>\n",
       "      <td>0.066288</td>\n",
       "      <td>-0.014535</td>\n",
       "      <td>-0.023256</td>\n",
       "      <td>0.049265</td>\n",
       "      <td>0.045855</td>\n",
       "      <td>-0.010033</td>\n",
       "      <td>-0.012195</td>\n",
       "      <td>-0.166090</td>\n",
       "    </tr>\n",
       "    <tr>\n",
       "      <th>9</th>\n",
       "      <td>0.145299</td>\n",
       "      <td>0.085366</td>\n",
       "      <td>-0.003552</td>\n",
       "      <td>0.073746</td>\n",
       "      <td>0.238095</td>\n",
       "      <td>0.110896</td>\n",
       "      <td>-0.018550</td>\n",
       "      <td>0.141892</td>\n",
       "      <td>0.024691</td>\n",
       "      <td>0.074689</td>\n",
       "    </tr>\n",
       "  </tbody>\n",
       "</table>\n",
       "</div>"
      ],
      "text/plain": [
       "   Infosys_returns  Indian_Hotel_returns  Mahindra&Mahindra_returns  \\\n",
       "0              NaN                   NaN                        NaN   \n",
       "1        -0.026515             -0.014493                   0.006593   \n",
       "2        -0.011673              0.000000                  -0.008734   \n",
       "3        -0.003937              0.000000                   0.074890   \n",
       "4         0.011858             -0.044118                  -0.012295   \n",
       "5        -0.031250             -0.015385                   0.041494   \n",
       "6         0.020161              0.062500                   0.011952   \n",
       "7        -0.035573              0.220588                   0.039370   \n",
       "8        -0.040984             -0.012048                   0.066288   \n",
       "9         0.145299              0.085366                  -0.003552   \n",
       "\n",
       "   Axis_Bank_returns  SAIL_returns  Shree_Cement_returns  Sun_Pharma_returns  \\\n",
       "0                NaN           NaN                   NaN                 NaN   \n",
       "1           0.049430      0.029412              0.033375            0.099099   \n",
       "2          -0.021739     -0.028571             -0.013792           -0.004918   \n",
       "3           0.048148      0.000000              0.007612           -0.004942   \n",
       "4          -0.003534     -0.073529             -0.019325            0.011589   \n",
       "5           0.063830      0.063492              0.011465           -0.008183   \n",
       "6           0.080000      0.119403              0.069961           -0.016502   \n",
       "7           0.061728      0.146667              0.058434           -0.048658   \n",
       "8          -0.014535     -0.023256              0.049265            0.045855   \n",
       "9           0.073746      0.238095              0.110896           -0.018550   \n",
       "\n",
       "   Jindal_Steel_returns  Idea_Vodafone_returns  Jet_Airways_returns  \n",
       "0                   NaN                    NaN                  NaN  \n",
       "1             -0.063758               0.012048             0.089928  \n",
       "2              0.000000              -0.011905            -0.075908  \n",
       "3             -0.017921               0.000000             0.007143  \n",
       "4             -0.131387              -0.048193            -0.138298  \n",
       "5              0.025210               0.012658            -0.016461  \n",
       "6              0.102459               0.050000             0.020921  \n",
       "7              0.111524              -0.023810             0.184426  \n",
       "8             -0.010033              -0.012195            -0.166090  \n",
       "9              0.141892               0.024691             0.074689  "
      ]
     },
     "execution_count": 18,
     "metadata": {},
     "output_type": "execute_result"
    }
   ],
   "source": [
    "stock_returns.head(10)"
   ]
  },
  {
   "cell_type": "markdown",
   "metadata": {},
   "source": [
    "### 2.3 Calculate Stock Means and Standard Deviation for all stocks with inference"
   ]
  },
  {
   "cell_type": "code",
   "execution_count": 19,
   "metadata": {},
   "outputs": [
    {
     "data": {
      "text/plain": [
       "Infosys_returns              0.003409\n",
       "Indian_Hotel_returns         0.001369\n",
       "Mahindra&Mahindra_returns   -0.000717\n",
       "Axis_Bank_returns            0.002201\n",
       "SAIL_returns                -0.001521\n",
       "Shree_Cement_returns         0.004487\n",
       "Sun_Pharma_returns          -0.000451\n",
       "Jindal_Steel_returns        -0.001313\n",
       "Idea_Vodafone_returns       -0.005080\n",
       "Jet_Airways_returns         -0.004805\n",
       "dtype: float64"
      ]
     },
     "execution_count": 19,
     "metadata": {},
     "output_type": "execute_result"
    }
   ],
   "source": [
    "stock_means = stock_returns.mean(axis = 0)\n",
    "stock_means"
   ]
  },
  {
   "cell_type": "code",
   "execution_count": 20,
   "metadata": {},
   "outputs": [
    {
     "data": {
      "text/plain": [
       "Infosys_returns              0.034910\n",
       "Indian_Hotel_returns         0.046914\n",
       "Mahindra&Mahindra_returns    0.039029\n",
       "Axis_Bank_returns            0.045018\n",
       "SAIL_returns                 0.062899\n",
       "Shree_Cement_returns         0.040192\n",
       "Sun_Pharma_returns           0.044616\n",
       "Jindal_Steel_returns         0.075079\n",
       "Idea_Vodafone_returns        0.110075\n",
       "Jet_Airways_returns          0.096473\n",
       "dtype: float64"
      ]
     },
     "execution_count": 20,
     "metadata": {},
     "output_type": "execute_result"
    }
   ],
   "source": [
    "stock_sd = stock_returns.std(axis = 0)\n",
    "stock_sd"
   ]
  },
  {
   "cell_type": "markdown",
   "metadata": {},
   "source": [
    "### 2.4 Draw a plot of Stock Means vs Standard Deviation and state your inference"
   ]
  },
  {
   "cell_type": "code",
   "execution_count": 21,
   "metadata": {},
   "outputs": [
    {
     "data": {
      "text/html": [
       "<div>\n",
       "<style scoped>\n",
       "    .dataframe tbody tr th:only-of-type {\n",
       "        vertical-align: middle;\n",
       "    }\n",
       "\n",
       "    .dataframe tbody tr th {\n",
       "        vertical-align: top;\n",
       "    }\n",
       "\n",
       "    .dataframe thead th {\n",
       "        text-align: right;\n",
       "    }\n",
       "</style>\n",
       "<table border=\"1\" class=\"dataframe\">\n",
       "  <thead>\n",
       "    <tr style=\"text-align: right;\">\n",
       "      <th></th>\n",
       "      <th>Average</th>\n",
       "      <th>Volatility</th>\n",
       "    </tr>\n",
       "  </thead>\n",
       "  <tbody>\n",
       "    <tr>\n",
       "      <th>Infosys_returns</th>\n",
       "      <td>0.003409</td>\n",
       "      <td>0.034910</td>\n",
       "    </tr>\n",
       "    <tr>\n",
       "      <th>Indian_Hotel_returns</th>\n",
       "      <td>0.001369</td>\n",
       "      <td>0.046914</td>\n",
       "    </tr>\n",
       "    <tr>\n",
       "      <th>Mahindra&amp;Mahindra_returns</th>\n",
       "      <td>-0.000717</td>\n",
       "      <td>0.039029</td>\n",
       "    </tr>\n",
       "    <tr>\n",
       "      <th>Axis_Bank_returns</th>\n",
       "      <td>0.002201</td>\n",
       "      <td>0.045018</td>\n",
       "    </tr>\n",
       "    <tr>\n",
       "      <th>SAIL_returns</th>\n",
       "      <td>-0.001521</td>\n",
       "      <td>0.062899</td>\n",
       "    </tr>\n",
       "    <tr>\n",
       "      <th>Shree_Cement_returns</th>\n",
       "      <td>0.004487</td>\n",
       "      <td>0.040192</td>\n",
       "    </tr>\n",
       "    <tr>\n",
       "      <th>Sun_Pharma_returns</th>\n",
       "      <td>-0.000451</td>\n",
       "      <td>0.044616</td>\n",
       "    </tr>\n",
       "    <tr>\n",
       "      <th>Jindal_Steel_returns</th>\n",
       "      <td>-0.001313</td>\n",
       "      <td>0.075079</td>\n",
       "    </tr>\n",
       "    <tr>\n",
       "      <th>Idea_Vodafone_returns</th>\n",
       "      <td>-0.005080</td>\n",
       "      <td>0.110075</td>\n",
       "    </tr>\n",
       "    <tr>\n",
       "      <th>Jet_Airways_returns</th>\n",
       "      <td>-0.004805</td>\n",
       "      <td>0.096473</td>\n",
       "    </tr>\n",
       "  </tbody>\n",
       "</table>\n",
       "</div>"
      ],
      "text/plain": [
       "                            Average  Volatility\n",
       "Infosys_returns            0.003409    0.034910\n",
       "Indian_Hotel_returns       0.001369    0.046914\n",
       "Mahindra&Mahindra_returns -0.000717    0.039029\n",
       "Axis_Bank_returns          0.002201    0.045018\n",
       "SAIL_returns              -0.001521    0.062899\n",
       "Shree_Cement_returns       0.004487    0.040192\n",
       "Sun_Pharma_returns        -0.000451    0.044616\n",
       "Jindal_Steel_returns      -0.001313    0.075079\n",
       "Idea_Vodafone_returns     -0.005080    0.110075\n",
       "Jet_Airways_returns       -0.004805    0.096473"
      ]
     },
     "execution_count": 21,
     "metadata": {},
     "output_type": "execute_result"
    }
   ],
   "source": [
    "df = pd.DataFrame({'Average':stock_means, 'Volatility': stock_sd})\n",
    "df"
   ]
  },
  {
   "cell_type": "code",
   "execution_count": 22,
   "metadata": {},
   "outputs": [
    {
     "data": {
      "image/png": "[encoded data removed]",
      "text/plain": [
       "<Figure size 432x288 with 1 Axes>"
      ]
     },
     "metadata": {
      "needs_background": "light"
     },
     "output_type": "display_data"
    }
   ],
   "source": [
    "plot = sns.scatterplot(df['Volatility'], df['Average'])\n",
    "plot.axvline(linestyle='--', color = \"red\")\n",
    "plot.axhline(linestyle='--', color = \"red\")\n",
    "plt.show()"
   ]
  },
  {
   "cell_type": "code",
   "execution_count": 23,
   "metadata": {},
   "outputs": [
    {
     "data": {
      "text/html": [
       "<div>\n",
       "<style scoped>\n",
       "    .dataframe tbody tr th:only-of-type {\n",
       "        vertical-align: middle;\n",
       "    }\n",
       "\n",
       "    .dataframe tbody tr th {\n",
       "        vertical-align: top;\n",
       "    }\n",
       "\n",
       "    .dataframe thead th {\n",
       "        text-align: right;\n",
       "    }\n",
       "</style>\n",
       "<table border=\"1\" class=\"dataframe\">\n",
       "  <thead>\n",
       "    <tr style=\"text-align: right;\">\n",
       "      <th></th>\n",
       "      <th>Average</th>\n",
       "      <th>Volatility</th>\n",
       "    </tr>\n",
       "  </thead>\n",
       "  <tbody>\n",
       "    <tr>\n",
       "      <th>Infosys_returns</th>\n",
       "      <td>0.003409</td>\n",
       "      <td>0.034910</td>\n",
       "    </tr>\n",
       "    <tr>\n",
       "      <th>Shree_Cement_returns</th>\n",
       "      <td>0.004487</td>\n",
       "      <td>0.040192</td>\n",
       "    </tr>\n",
       "    <tr>\n",
       "      <th>Axis_Bank_returns</th>\n",
       "      <td>0.002201</td>\n",
       "      <td>0.045018</td>\n",
       "    </tr>\n",
       "    <tr>\n",
       "      <th>Indian_Hotel_returns</th>\n",
       "      <td>0.001369</td>\n",
       "      <td>0.046914</td>\n",
       "    </tr>\n",
       "  </tbody>\n",
       "</table>\n",
       "</div>"
      ],
      "text/plain": [
       "                       Average  Volatility\n",
       "Infosys_returns       0.003409    0.034910\n",
       "Shree_Cement_returns  0.004487    0.040192\n",
       "Axis_Bank_returns     0.002201    0.045018\n",
       "Indian_Hotel_returns  0.001369    0.046914"
      ]
     },
     "execution_count": 23,
     "metadata": {},
     "output_type": "execute_result"
    }
   ],
   "source": [
    "df[df['Average'] > 0].sort_values(by = 'Volatility')"
   ]
  },
  {
   "cell_type": "markdown",
   "metadata": {},
   "source": [
    "### 2.5 Conclusion and Recommendations"
   ]
  },
  {
   "cell_type": "code",
   "execution_count": 41,
   "metadata": {},
   "outputs": [
    {
     "data": {
      "image/png": "[encoded data removed]",
      "text/plain": [
       "<Figure size 432x432 with 1 Axes>"
      ]
     },
     "metadata": {
      "needs_background": "light"
     },
     "output_type": "display_data"
    }
   ],
   "source": [
    "plt.figure(figsize = (6,6))\n",
    "plt.plot(stock_data['dates'], stock_data['Infosys'], color = 'red')\n",
    "plt.plot(stock_data['dates'], stock_data['Axis_Bank'], color = 'green')\n",
    "plt.plot(stock_data['dates'], stock_data['Indian_Hotel'], color = 'blue')\n",
    "plt.plot(stock_data['dates'], stock_data['Shree_Cement'], color = 'pink')\n",
    "plt.xlabel('Year')\n",
    "plt.ylabel('Stocks')\n",
    "plt.title('Returns over the years')\n",
    "plt.show()"
   ]
  },
  {
   "cell_type": "markdown",
   "metadata": {},
   "source": [
    "We can conclude that Infosys, Shree Cement, Axis Bank and Indian Hotel have low Volatility value and high Average returns value. So that we can recommend to buy these 4 stocks.\n",
    "\n",
    "Volatility is one of the most important pillars in financial markets. A stock is said to have high volatility if its value can change dramatically within a short span of time. On other hand, lower volatility means that value of stock tends to be relatively steady over a period of time. These movements are due to several factors including demand and supply, sentiment, corporate actions, greed, and fear, etc. Mathematically, volatility is measured using a statistical measure called ‘standard deviation’, which measures an asset’s departure from its average value.\n",
    "We have already calculated the daily returns of the given stocks.\n",
    "\n",
    "Infosys, Shree Cement, Axis Bank and Indian Hotel in increasing trend and we can recommend to check the minimum value for purchase to get high returns."
   ]
  }
 ],
 "metadata": {
  "kernelspec": {
   "display_name": "Python 3",
   "language": "python",
   "name": "python3"
  },
  "language_info": {
   "codemirror_mode": {
    "name": "ipython",
    "version": 3
   },
   "file_extension": ".py",
   "mimetype": "text/x-python",
   "name": "python",
   "nbconvert_exporter": "python",
   "pygments_lexer": "ipython3",
   "version": "3.8.5"
  }
 },
 "nbformat": 4,
 "nbformat_minor": 4
}
